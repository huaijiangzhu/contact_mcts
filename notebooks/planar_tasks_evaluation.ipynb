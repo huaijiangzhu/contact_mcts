{
 "cells": [
  {
   "cell_type": "code",
   "execution_count": null,
   "metadata": {},
   "outputs": [],
   "source": [
    "%matplotlib inline\n",
    "%load_ext autoreload\n",
    "%autoreload 2"
   ]
  },
  {
   "cell_type": "code",
   "execution_count": null,
   "metadata": {},
   "outputs": [],
   "source": [
    "import os\n",
    "import time\n",
    "import pathlib\n",
    "project_path = pathlib.Path('.').absolute().parent\n",
    "python_path = project_path/'src'\n",
    "os.sys.path.insert(1, str(python_path))"
   ]
  },
  {
   "cell_type": "code",
   "execution_count": null,
   "metadata": {},
   "outputs": [],
   "source": [
    "from tqdm.notebook import trange\n",
    "import pybullet\n",
    "import torch\n",
    "    \n",
    "import numpy as np\n",
    "import pinocchio as pin"
   ]
  },
  {
   "cell_type": "code",
   "execution_count": null,
   "metadata": {},
   "outputs": [],
   "source": [
    "from contact_mcts.objects import Cube\n",
    "from contact_mcts.pvmcts import PolicyValueMCTS\n",
    "from contact_mcts.trajectory import generate_random_poses\n",
    "from contact_mcts.envs.fingers import FingerDoubleAndBox\n",
    "from contact_mcts.pvnet import PolicyValueNet, ValueClassifier\n",
    "from contact_mcts.params import get_default_params, update_params\n",
    "from robot_properties_nyu_finger.config import NYUFingerDoubleConfig0, NYUFingerDoubleConfig1"
   ]
  },
  {
   "cell_type": "markdown",
   "metadata": {},
   "source": [
    "## Set up parameters"
   ]
  },
  {
   "cell_type": "code",
   "execution_count": null,
   "metadata": {},
   "outputs": [],
   "source": [
    "object_urdf = str(python_path/'contact_mcts'/'envs'/'resources'/'box.urdf')\n",
    "robot_config = [NYUFingerDoubleConfig0(), NYUFingerDoubleConfig1()]\n",
    "params = get_default_params(object_urdf, robot_config)"
   ]
  },
  {
   "cell_type": "markdown",
   "metadata": {},
   "source": [
    "## Load networks"
   ]
  },
  {
   "cell_type": "code",
   "execution_count": null,
   "metadata": {},
   "outputs": [],
   "source": [
    "# trained networks\n",
    "\n",
    "device = torch.device('cpu')\n",
    "pvnet = PolicyValueNet()\n",
    "pvnet.load_state_dict(torch.load('../models/pvnet1.pt', \n",
    "                                 map_location=device))\n",
    "value_classifier = ValueClassifier()\n",
    "value_classifier.load_state_dict(torch.load('../models/value_classifier1.pt', \n",
    "                                            map_location=device))\n",
    "\n",
    "# untrained networks\n",
    "pvnet_untrained = PolicyValueNet()\n",
    "value_classifier_untrained = ValueClassifier()"
   ]
  },
  {
   "cell_type": "markdown",
   "metadata": {},
   "source": [
    "## Evaluate on random planar tasks"
   ]
  },
  {
   "cell_type": "code",
   "execution_count": null,
   "metadata": {},
   "outputs": [],
   "source": [
    "# task specification\n",
    "max_budget = 50\n",
    "ntasks = 5\n",
    "n_desired_poses = 2\n",
    "\n",
    "# sampled region\n",
    "lb = np.array([-0.08, -0.08, 0.1, 0., 0., -np.pi])\n",
    "ub = np.array([ 0.08,  0.08, 0.1, 0., 0.,  np.pi])\n",
    "\n",
    "diff_lb = np.array([-0.05, -0.05, 0, 0., 0., -np.pi / 4])\n",
    "diff_ub = np.array([ 0.05,  0.05, 0, 0., 0.,  np.pi / 4])"
   ]
  },
  {
   "cell_type": "code",
   "execution_count": null,
   "metadata": {
    "scrolled": false
   },
   "outputs": [],
   "source": [
    "# store and compute the metrics\n",
    "budget = []\n",
    "errors = []\n",
    "elapsed = []\n",
    "failed_tasks = []\n",
    "\n",
    "budget_untrained = []\n",
    "errors_untrained = []\n",
    "elapsed_untrained = []\n",
    "failed_tasks_untrained = []\n",
    "\n",
    "for task in trange(ntasks):\n",
    "    desired_poses = generate_random_poses(n_desired_poses, lb, ub, diff_lb, diff_ub)    \n",
    "    params = update_params(params, desired_poses)\n",
    "    pose_init = pin.SE3ToXYZQUAT(params.desired_poses[0])\n",
    "    box_pos = pose_init[:3]\n",
    "    box_orn = pose_init[3:]\n",
    "    env = FingerDoubleAndBox(params, box_pos, box_orn, server=pybullet.DIRECT)\n",
    "    \n",
    "    mcts = PolicyValueMCTS(params, env, \n",
    "                           networks=[pvnet, value_classifier])\n",
    "    state = [[0, 0]]\n",
    "\n",
    "    start = time.time()\n",
    "    mcts.run(state, budget=max_budget, verbose=False)\n",
    "    te = time.time() - start\n",
    "    best_state, _ = mcts.get_solution()\n",
    "    elapsed.append(te)\n",
    "    budget.append(max_budget - mcts.budget)\n",
    "        \n",
    "    if best_state is not None:\n",
    "        errors.append(mcts.reached_nodes_error[str(best_state)])\n",
    "    else:\n",
    "        failed_tasks.append(desired_poses)\n",
    "\n",
    "    mcts_untrained = PolicyValueMCTS(params, env, \n",
    "                                     networks=[pvnet_untrained, value_classifier_untrained])\n",
    "    state = [[0, 0]]\n",
    "\n",
    "    start = time.time()\n",
    "    mcts_untrained.run(state, budget=max_budget, verbose=False)\n",
    "    te_untrained = time.time() - start\n",
    "    best_state, _ = mcts_untrained.get_solution()\n",
    "    elapsed_untrained.append(te_untrained)\n",
    "    budget_untrained.append(max_budget - mcts_untrained.budget)\n",
    "        \n",
    "    if best_state is not None:\n",
    "        errors_untrained.append(mcts_untrained.reached_nodes_error[str(best_state)])\n",
    "    else:\n",
    "        failed_tasks_untrained.append(desired_poses)\n",
    "        \n",
    "    env.close()"
   ]
  },
  {
   "cell_type": "code",
   "execution_count": null,
   "metadata": {},
   "outputs": [],
   "source": [
    "print(len(errors_untrained)/ntasks)\n",
    "print(np.mean(errors_untrained, axis=0))\n",
    "print(np.max(errors_untrained, axis=0))\n",
    "\n",
    "print(np.mean(budget_untrained))\n",
    "print(np.max(budget_untrained))\n",
    "print(np.mean(elapsed_untrained))\n",
    "print(np.max(elapsed_untrained))"
   ]
  },
  {
   "cell_type": "code",
   "execution_count": null,
   "metadata": {},
   "outputs": [],
   "source": [
    "print(len(errors)/ntasks)\n",
    "print(np.mean(errors, axis=0))\n",
    "print(np.max(errors, axis=0))\n",
    "\n",
    "print(np.mean(budget))\n",
    "print(np.max(budget))\n",
    "print(np.mean(elapsed))\n",
    "print(np.max(elapsed))"
   ]
  }
 ],
 "metadata": {
  "kernelspec": {
   "display_name": "Python 3",
   "language": "python",
   "name": "python3"
  },
  "language_info": {
   "codemirror_mode": {
    "name": "ipython",
    "version": 3
   },
   "file_extension": ".py",
   "mimetype": "text/x-python",
   "name": "python",
   "nbconvert_exporter": "python",
   "pygments_lexer": "ipython3",
   "version": "3.6.9"
  }
 },
 "nbformat": 4,
 "nbformat_minor": 4
}
